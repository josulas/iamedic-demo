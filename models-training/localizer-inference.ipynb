{
 "cells": [
  {
   "cell_type": "code",
   "execution_count": 7,
   "id": "342df543",
   "metadata": {},
   "outputs": [],
   "source": [
    "import numpy as np\n",
    "import onnxruntime as ort\n",
    "import cv2\n",
    "import mlflow\n",
    "from mlflow.tracking import MlflowClient"
   ]
  },
  {
   "cell_type": "code",
   "execution_count": 8,
   "id": "b4c0eea0",
   "metadata": {},
   "outputs": [],
   "source": [
    "MLFLOW_URI = \"http://localhost:8080\"\n",
    "MODEL_NAME = \"anatomy_detector\"\n",
    "ALIAS = \"champion\"\n",
    "TARGET_HEIGHT = 400\n",
    "TARGET_WIDTH = 600"
   ]
  },
  {
   "cell_type": "code",
   "execution_count": 9,
   "id": "c48358a5",
   "metadata": {},
   "outputs": [
    {
     "data": {
      "application/vnd.jupyter.widget-view+json": {
       "model_id": "3e91dd9d9afe49b79649a9717cb87c63",
       "version_major": 2,
       "version_minor": 0
      },
      "text/plain": [
       "Downloading artifacts:   0%|          | 0/1 [00:00<?, ?it/s]"
      ]
     },
     "metadata": {},
     "output_type": "display_data"
    }
   ],
   "source": [
    "mlflow.set_tracking_uri(MLFLOW_URI)\n",
    "client = MlflowClient()\n",
    "model_version = client.get_model_version_by_alias(name=MODEL_NAME, alias=ALIAS)\n",
    "onnx_source = model_version.source\n",
    "ONNX_MODEL_PATH = mlflow.artifacts.download_artifacts(onnx_source)"
   ]
  },
  {
   "cell_type": "code",
   "execution_count": 6,
   "id": "f59e97c5",
   "metadata": {},
   "outputs": [
    {
     "name": "stdout",
     "output_type": "stream",
     "text": [
      "Predicted class confidences: [0.8649031  0.93156165 0.9503524  0.96955484 0.9971384  0.99441046\n",
      " 0.9998605  0.9509804  0.9894701 ]\n",
      "Predicted boxes: [[0.37585613 0.7974008  0.14016238 0.05754925]\n",
      " [0.35195756 0.736306   0.10226785 0.06196683]\n",
      " [0.5787262  0.8576854  0.519773   0.07402731]\n",
      " [0.27359235 0.7032237  0.10246657 0.16758417]\n",
      " [0.5011482  0.3334785  0.06206264 0.01847832]\n",
      " [0.5168424  0.30724606 0.04395769 0.01814534]\n",
      " [0.5407074  0.30092418 0.04477595 0.01912759]\n",
      " [0.5282779  0.4572421  0.15927117 0.13536735]\n",
      " [0.30684185 0.51673836 0.12966292 0.14619088]]\n"
     ]
    }
   ],
   "source": [
    "# Load ONNX model\n",
    "ort_session = ort.InferenceSession(ONNX_MODEL_PATH)\n",
    "\n",
    "# test with image 1528.png \n",
    "test_img_path = r\"dataset/Dataset for Fetus Framework/Internal Test Set/Standard/1528.png\"\n",
    "\n",
    "# Preprocess the image\n",
    "test_img = cv2.imread(test_img_path, cv2.IMREAD_GRAYSCALE)      # Load as grayscale\n",
    "test_img = cv2.resize(test_img, (TARGET_WIDTH, TARGET_HEIGHT))  # Resize to target dimensions\n",
    "test_img = ((test_img / 255.0 - 0.5) / 0.5).astype(np.float32)                # Normalize to [0, 1]\n",
    "test_img = np.expand_dims(test_img, axis=0)                     # Add batch dimension\n",
    "test_img = np.expand_dims(test_img, axis=0)                     # Add channel dimension\n",
    "\n",
    "# Run inference\n",
    "ort_inputs = {'input': test_img}\n",
    "ort_outputs = ort_session.run(None, ort_inputs)\n",
    "pred_class_conf = np.array(ort_outputs[0].squeeze(0))   # [K]\n",
    "pred_boxes = np.array(ort_outputs[1].squeeze(0))        # [K, 4]\n",
    "\n",
    "# Print results\n",
    "print(f\"Predicted class confidences: {pred_class_conf}\")\n",
    "print(f\"Predicted boxes: {pred_boxes}\")"
   ]
  }
 ],
 "metadata": {
  "kernelspec": {
   "display_name": "iamedic-data-analysis",
   "language": "python",
   "name": "python3"
  },
  "language_info": {
   "codemirror_mode": {
    "name": "ipython",
    "version": 3
   },
   "file_extension": ".py",
   "mimetype": "text/x-python",
   "name": "python",
   "nbconvert_exporter": "python",
   "pygments_lexer": "ipython3",
   "version": "3.12.11"
  }
 },
 "nbformat": 4,
 "nbformat_minor": 5
}
