{
 "cells": [
  {
   "cell_type": "code",
   "execution_count": 1,
   "id": "342df543",
   "metadata": {},
   "outputs": [],
   "source": [
    "import numpy as np\n",
    "import onnxruntime as ort\n",
    "import cv2\n",
    "import mlflow\n",
    "from mlflow.tracking import MlflowClient"
   ]
  },
  {
   "cell_type": "code",
   "execution_count": 2,
   "id": "b4c0eea0",
   "metadata": {},
   "outputs": [],
   "source": [
    "MLFLOW_URI = \"http://localhost:8080\"\n",
    "MODEL_NAME = \"anatomy_detector\"\n",
    "ALIAS = \"champion\"\n",
    "TARGET_HEIGHT = 400\n",
    "TARGET_WIDTH = 600"
   ]
  },
  {
   "cell_type": "code",
   "execution_count": null,
   "id": "c48358a5",
   "metadata": {},
   "outputs": [],
   "source": [
    "mlflow.set_tracking_uri(MLFLOW_URI)\n",
    "client = MlflowClient()\n",
    "model_version = client.get_model_version_by_alias(name=MODEL_NAME, alias=ALIAS)\n",
    "onnx_source = model_version.source\n",
    "ONNX_MODEL_PATH = mlflow.artifacts.download_artifacts(onnx_source)"
   ]
  },
  {
   "cell_type": "code",
   "execution_count": null,
   "id": "f59e97c5",
   "metadata": {},
   "outputs": [],
   "source": [
    "# Load ONNX model\n",
    "ort_session = ort.InferenceSession(ONNX_MODEL_PATH)\n",
    "\n",
    "# test with image 1528.png \n",
    "test_img_path = r\"dataset/Dataset for Fetus Framework/Internal Test Set/Standard/1528.png\"\n",
    "\n",
    "# Preprocess the image\n",
    "test_img = cv2.imread(test_img_path, cv2.IMREAD_GRAYSCALE)      # Load as grayscale\n",
    "test_img = cv2.resize(test_img, (TARGET_WIDTH, TARGET_HEIGHT))  # Resize to target dimensions\n",
    "test_img = ((test_img / 255.0 - 0.5) / 0.5).astype(np.float32)                # Normalize to [0, 1]\n",
    "test_img = np.expand_dims(test_img, axis=0)                     # Add batch dimension\n",
    "test_img = np.expand_dims(test_img, axis=0)                     # Add channel dimension\n",
    "\n",
    "# Run inference\n",
    "ort_inputs = {'input': test_img}\n",
    "ort_outputs = ort_session.run(None, ort_inputs)\n",
    "pred_class_conf = np.array(ort_outputs[0].squeeze(0))   # [K]\n",
    "pred_boxes = np.array(ort_outputs[1].squeeze(0))        # [K, 4]\n",
    "\n",
    "# Print results\n",
    "print(f\"Predicted class confidences: {pred_class_conf}\")\n",
    "print(f\"Predicted boxes: {pred_boxes}\")"
   ]
  }
 ],
 "metadata": {
  "kernelspec": {
   "display_name": "redes",
   "language": "python",
   "name": "python3"
  },
  "language_info": {
   "codemirror_mode": {
    "name": "ipython",
    "version": 3
   },
   "file_extension": ".py",
   "mimetype": "text/x-python",
   "name": "python",
   "nbconvert_exporter": "python",
   "pygments_lexer": "ipython3",
   "version": "3.12.9"
  }
 },
 "nbformat": 4,
 "nbformat_minor": 5
}
