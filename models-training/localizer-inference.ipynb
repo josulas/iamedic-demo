{
 "cells": [
  {
   "cell_type": "code",
   "execution_count": 18,
   "id": "342df543",
   "metadata": {},
   "outputs": [],
   "source": [
    "import numpy as np\n",
    "import onnxruntime as ort\n",
    "import cv2"
   ]
  },
  {
   "cell_type": "code",
   "execution_count": 19,
   "id": "b4c0eea0",
   "metadata": {},
   "outputs": [],
   "source": [
    "ONNX_MODEL_PATH = \"onnx_exports/anatomy_detector.onnx\"\n",
    "TARGET_HEIGHT = 400\n",
    "TARGET_WIDTH = 600"
   ]
  },
  {
   "cell_type": "code",
   "execution_count": null,
   "id": "f59e97c5",
   "metadata": {},
   "outputs": [
    {
     "name": "stdout",
     "output_type": "stream",
     "text": [
      "Predicted class confidences: [0.8598503  0.97966266 0.99358225 0.9739133  0.9805746  0.95857215\n",
      " 0.99799085 0.7284124  0.95286584]\n",
      "Predicted boxes: [[ 0.43700513  0.78694963  0.1572266   0.06127717]\n",
      " [ 0.40242913  0.7212735   0.09837068  0.08814026]\n",
      " [ 0.6460256   0.8514301   0.6462361   0.09517306]\n",
      " [ 0.3362309   0.677074    0.09282832  0.19351561]\n",
      " [ 0.55376536  0.30678332  0.06022933  0.02538558]\n",
      " [ 0.5743757   0.28929353  0.07179459 -0.00681733]\n",
      " [ 0.6021862   0.28060254  0.04308435  0.03262471]\n",
      " [ 0.5827274   0.42605966  0.14385654  0.15444261]\n",
      " [ 0.36033607  0.508222    0.15419254  0.17113219]]\n"
     ]
    }
   ],
   "source": [
    "# Load ONNX model\n",
    "ort_session = ort.InferenceSession(ONNX_MODEL_PATH)\n",
    "\n",
    "# test with image 1528.png \n",
    "test_img_path = r\"dataset/Dataset for Fetus Framework/Internal Test Set/Standard/1528.png\"\n",
    "\n",
    "# Preprocess the image\n",
    "test_img = cv2.imread(test_img_path, cv2.IMREAD_GRAYSCALE)      # Load as grayscale\n",
    "test_img = cv2.resize(test_img, (TARGET_WIDTH, TARGET_HEIGHT))  # Resize to target dimensions\n",
    "test_img = ((test_img / 255.0 - 0.5) / 0.5).astype(np.float32)                # Normalize to [0, 1]\n",
    "test_img = np.expand_dims(test_img, axis=0)                     # Add batch dimension\n",
    "test_img = np.expand_dims(test_img, axis=0)                     # Add channel dimension\n",
    "\n",
    "# Run inference\n",
    "ort_inputs = {'input': test_img}\n",
    "ort_outputs = ort_session.run(None, ort_inputs)\n",
    "pred_class_conf = np.array(ort_outputs[0].squeeze(0))   # [K]\n",
    "pred_boxes = np.array(ort_outputs[1].squeeze(0))        # [K, 4]\n",
    "\n",
    "# Print results\n",
    "print(f\"Predicted class confidences: {pred_class_conf}\")\n",
    "print(f\"Predicted boxes: {pred_boxes}\")"
   ]
  }
 ],
 "metadata": {
  "kernelspec": {
   "display_name": "iamedic-data-analysis",
   "language": "python",
   "name": "python3"
  },
  "language_info": {
   "codemirror_mode": {
    "name": "ipython",
    "version": 3
   },
   "file_extension": ".py",
   "mimetype": "text/x-python",
   "name": "python",
   "nbconvert_exporter": "python",
   "pygments_lexer": "ipython3",
   "version": "3.12.11"
  }
 },
 "nbformat": 4,
 "nbformat_minor": 5
}
