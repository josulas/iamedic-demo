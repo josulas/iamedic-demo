{
 "cells": [
  {
   "cell_type": "markdown",
   "id": "8ba5e18c",
   "metadata": {},
   "source": [
    "# Segmentation model U net \n"
   ]
  }
 ],
 "metadata": {
  "language_info": {
   "name": "python"
  }
 },
 "nbformat": 4,
 "nbformat_minor": 5
}
