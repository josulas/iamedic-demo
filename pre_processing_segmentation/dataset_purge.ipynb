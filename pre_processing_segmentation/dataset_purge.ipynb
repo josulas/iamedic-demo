{
 "cells": [
  {
   "cell_type": "markdown",
   "id": "f52866ef",
   "metadata": {},
   "source": [
    "# Create a new data set only with the images that have a TN "
   ]
  },
  {
   "cell_type": "markdown",
   "id": "afc0ba1e",
   "metadata": {},
   "source": [
    "### imports"
   ]
  },
  {
   "cell_type": "code",
   "execution_count": 101,
   "id": "6e8dd750",
   "metadata": {},
   "outputs": [],
   "source": [
    "import pandas as pd\n",
    "from pathlib import Path\n",
    "import shutil\n",
    "import os"
   ]
  },
  {
   "cell_type": "code",
   "execution_count": 102,
   "id": "6f78a5eb",
   "metadata": {},
   "outputs": [],
   "source": [
    "dataset_root    = Path('dataset/Dataset for Fetus Framework')\n",
    "excel_path      = Path('ObjectDetection.xlsx')\n",
    "new_dataset_root= Path('new_dataset')\n",
    "train_val_dir   = new_dataset_root / 'train_val'\n",
    "test_dir        = new_dataset_root / 'test'"
   ]
  },
  {
   "cell_type": "markdown",
   "id": "dde80a71",
   "metadata": {},
   "source": [
    "Start by analizing on the actual data set how many standart images have a tn "
   ]
  },
  {
   "cell_type": "code",
   "execution_count": 103,
   "id": "369cda91",
   "metadata": {},
   "outputs": [],
   "source": [
    "THIS_DIR = os.getcwd()\n",
    "PROJECT_ROOT = os.path.abspath(os.path.join(THIS_DIR, os.pardir))\n",
    "DATASET_ROOT      = os.path.join(PROJECT_ROOT, 'dataset', 'Dataset for Fetus Framework')\n",
    "EXCEL_PATH        = os.path.join(PROJECT_ROOT,'dataset', 'ObjectDetection.xlsx')\n",
    "\n",
    "# 4) Where to dump the reorganized dataset\n",
    "NEW_ROOT          = os.path.join(PROJECT_ROOT, 'pre_processing_segmentation')\n",
    "NEW_TRAIN_VAL_DIR = os.path.join(NEW_ROOT, 'train_val')\n",
    "NEW_TEST_DIR      = os.path.join(NEW_ROOT, 'test')\n",
    "\n",
    "# ─────────────────────────────────────────────────────\n",
    "\n",
    "def gather_images(dir_list):\n",
    "    imgs = []\n",
    "    for d in dir_list:\n",
    "        for fname in os.listdir(d):\n",
    "            f = os.path.join(d, fname)\n",
    "            if os.path.isfile(f):\n",
    "                imgs.append(f)\n",
    "    return imgs\n",
    "\n",
    "# ─────────────────────────────────────────────────────────────\n",
    "\n"
   ]
  },
  {
   "cell_type": "code",
   "execution_count": 104,
   "id": "5c4b08be",
   "metadata": {},
   "outputs": [],
   "source": [
    "df = pd.read_excel(EXCEL_PATH)"
   ]
  },
  {
   "cell_type": "code",
   "execution_count": 105,
   "id": "6e65e7cb",
   "metadata": {},
   "outputs": [
    {
     "data": {
      "text/plain": [
       "'c:\\\\Users\\\\ibajl\\\\Desktop\\\\iamedic-demo'"
      ]
     },
     "execution_count": 105,
     "metadata": {},
     "output_type": "execute_result"
    }
   ],
   "source": [
    "PROJECT_ROOT"
   ]
  },
  {
   "cell_type": "code",
   "execution_count": 106,
   "id": "e03afed4",
   "metadata": {},
   "outputs": [
    {
     "name": "stdout",
     "output_type": "stream",
     "text": [
      "c:\\Users\\ibajl\\Desktop\\iamedic-demo\\dataset\\Dataset for Fetus Framework\n"
     ]
    }
   ],
   "source": [
    "print(DATASET_ROOT)"
   ]
  },
  {
   "cell_type": "code",
   "execution_count": 107,
   "id": "bdca862e",
   "metadata": {},
   "outputs": [],
   "source": [
    "\n",
    "train_val_dirs = [\n",
    "    os.path.join(DATASET_ROOT, 'Set1-Training&Validation Sets CNN',         'Standard'),\n",
    "    os.path.join(DATASET_ROOT, 'Set2-Training&Validation Sets ANN Scoring system', 'Standard'),\n",
    "]\n",
    "test_dirs = [\n",
    "    os.path.join(DATASET_ROOT, 'External Test Set', 'Standard'),\n",
    "    os.path.join(DATASET_ROOT, 'Internal Test Set', 'Standard'),\n",
    "]"
   ]
  },
  {
   "cell_type": "code",
   "execution_count": 108,
   "id": "490079bb",
   "metadata": {},
   "outputs": [],
   "source": [
    "# 3) Collect all image files\n",
    "train_val_imgs = gather_images(train_val_dirs)\n",
    "test_imgs      = gather_images(test_dirs)\n",
    "all_standard   = train_val_imgs + test_imgs"
   ]
  },
  {
   "cell_type": "code",
   "execution_count": 109,
   "id": "82f515f3",
   "metadata": {},
   "outputs": [
    {
     "data": {
      "text/plain": [
       "(1061, 136)"
      ]
     },
     "execution_count": 109,
     "metadata": {},
     "output_type": "execute_result"
    }
   ],
   "source": [
    "len(train_val_imgs), len(test_imgs)"
   ]
  },
  {
   "cell_type": "code",
   "execution_count": 110,
   "id": "bb33af8e",
   "metadata": {},
   "outputs": [],
   "source": [
    "def count_files(path):\n",
    "    return len([\n",
    "        name for name in os.listdir(path)\n",
    "        if os.path.isfile(os.path.join(path, name))\n",
    "    ])"
   ]
  },
  {
   "cell_type": "code",
   "execution_count": 111,
   "id": "12bae25c",
   "metadata": {},
   "outputs": [
    {
     "name": "stdout",
     "output_type": "stream",
     "text": [
      "Train files: 1061, Test files: 136\n"
     ]
    }
   ],
   "source": [
    "train_file = count_files( train_val_dirs[0]) + count_files(train_val_dirs[1])\n",
    "test_files = count_files(test_dirs[0]) + count_files(test_dirs[1])\n",
    "print(f'Train files: {train_file}, Test files: {test_files}')"
   ]
  },
  {
   "cell_type": "code",
   "execution_count": 112,
   "id": "9de7d532",
   "metadata": {},
   "outputs": [
    {
     "data": {
      "text/html": [
       "<div>\n",
       "<style scoped>\n",
       "    .dataframe tbody tr th:only-of-type {\n",
       "        vertical-align: middle;\n",
       "    }\n",
       "\n",
       "    .dataframe tbody tr th {\n",
       "        vertical-align: top;\n",
       "    }\n",
       "\n",
       "    .dataframe thead th {\n",
       "        text-align: right;\n",
       "    }\n",
       "</style>\n",
       "<table border=\"1\" class=\"dataframe\">\n",
       "  <thead>\n",
       "    <tr style=\"text-align: right;\">\n",
       "      <th></th>\n",
       "      <th>fname</th>\n",
       "      <th>structure</th>\n",
       "      <th>h_min</th>\n",
       "      <th>w_min</th>\n",
       "      <th>h_max</th>\n",
       "      <th>w_max</th>\n",
       "    </tr>\n",
       "  </thead>\n",
       "  <tbody>\n",
       "    <tr>\n",
       "      <th>0</th>\n",
       "      <td>168.png</td>\n",
       "      <td>thalami</td>\n",
       "      <td>178</td>\n",
       "      <td>171</td>\n",
       "      <td>244</td>\n",
       "      <td>261</td>\n",
       "    </tr>\n",
       "    <tr>\n",
       "      <th>1</th>\n",
       "      <td>168.png</td>\n",
       "      <td>nasal bone</td>\n",
       "      <td>96</td>\n",
       "      <td>308</td>\n",
       "      <td>111</td>\n",
       "      <td>349</td>\n",
       "    </tr>\n",
       "    <tr>\n",
       "      <th>2</th>\n",
       "      <td>168.png</td>\n",
       "      <td>palate</td>\n",
       "      <td>133</td>\n",
       "      <td>300</td>\n",
       "      <td>205</td>\n",
       "      <td>408</td>\n",
       "    </tr>\n",
       "    <tr>\n",
       "      <th>3</th>\n",
       "      <td>168.png</td>\n",
       "      <td>nasal skin</td>\n",
       "      <td>86</td>\n",
       "      <td>324</td>\n",
       "      <td>95</td>\n",
       "      <td>349</td>\n",
       "    </tr>\n",
       "    <tr>\n",
       "      <th>4</th>\n",
       "      <td>168.png</td>\n",
       "      <td>nasal tip</td>\n",
       "      <td>79</td>\n",
       "      <td>345</td>\n",
       "      <td>89</td>\n",
       "      <td>376</td>\n",
       "    </tr>\n",
       "    <tr>\n",
       "      <th>...</th>\n",
       "      <td>...</td>\n",
       "      <td>...</td>\n",
       "      <td>...</td>\n",
       "      <td>...</td>\n",
       "      <td>...</td>\n",
       "      <td>...</td>\n",
       "    </tr>\n",
       "    <tr>\n",
       "      <th>9428</th>\n",
       "      <td>1577.png</td>\n",
       "      <td>nasal tip</td>\n",
       "      <td>134</td>\n",
       "      <td>363</td>\n",
       "      <td>142</td>\n",
       "      <td>385</td>\n",
       "    </tr>\n",
       "    <tr>\n",
       "      <th>9429</th>\n",
       "      <td>1577.png</td>\n",
       "      <td>NT</td>\n",
       "      <td>354</td>\n",
       "      <td>240</td>\n",
       "      <td>374</td>\n",
       "      <td>392</td>\n",
       "    </tr>\n",
       "    <tr>\n",
       "      <th>9430</th>\n",
       "      <td>1577.png</td>\n",
       "      <td>palate</td>\n",
       "      <td>169</td>\n",
       "      <td>317</td>\n",
       "      <td>219</td>\n",
       "      <td>407</td>\n",
       "    </tr>\n",
       "    <tr>\n",
       "      <th>9431</th>\n",
       "      <td>1577.png</td>\n",
       "      <td>thalami</td>\n",
       "      <td>192</td>\n",
       "      <td>217</td>\n",
       "      <td>244</td>\n",
       "      <td>281</td>\n",
       "    </tr>\n",
       "    <tr>\n",
       "      <th>9432</th>\n",
       "      <td>1577.png</td>\n",
       "      <td>midbrain</td>\n",
       "      <td>244</td>\n",
       "      <td>204</td>\n",
       "      <td>316</td>\n",
       "      <td>257</td>\n",
       "    </tr>\n",
       "  </tbody>\n",
       "</table>\n",
       "<p>9433 rows × 6 columns</p>\n",
       "</div>"
      ],
      "text/plain": [
       "         fname   structure  h_min  w_min  h_max  w_max\n",
       "0      168.png     thalami    178    171    244    261\n",
       "1      168.png  nasal bone     96    308    111    349\n",
       "2      168.png      palate    133    300    205    408\n",
       "3      168.png  nasal skin     86    324     95    349\n",
       "4      168.png   nasal tip     79    345     89    376\n",
       "...        ...         ...    ...    ...    ...    ...\n",
       "9428  1577.png   nasal tip    134    363    142    385\n",
       "9429  1577.png          NT    354    240    374    392\n",
       "9430  1577.png      palate    169    317    219    407\n",
       "9431  1577.png     thalami    192    217    244    281\n",
       "9432  1577.png    midbrain    244    204    316    257\n",
       "\n",
       "[9433 rows x 6 columns]"
      ]
     },
     "execution_count": 112,
     "metadata": {},
     "output_type": "execute_result"
    }
   ],
   "source": [
    "df"
   ]
  },
  {
   "cell_type": "code",
   "execution_count": 113,
   "id": "88e242b9",
   "metadata": {},
   "outputs": [
    {
     "name": "stdout",
     "output_type": "stream",
     "text": [
      "Total NT images in Excel: 1110\n",
      "  → Standard NT images overall: 1110\n",
      "  →  Train/Val NT images:        1038\n",
      "  →  Test NT images:             72\n"
     ]
    }
   ],
   "source": [
    "# 1) Build the set of *all* NT‐labeled filenames from your Excel\n",
    "tn_basenames = {\n",
    "    os.path.basename(p)\n",
    "    for p in df[df['structure'].str.upper() == 'NT']['fname']\n",
    "}\n",
    "print(f\"Total NT images in Excel: {len(tn_basenames)}\")\n",
    "\n",
    "# 2) Now intersect with your standard image lists\n",
    "standard_basenames   = {os.path.basename(p) for p in all_standard}\n",
    "train_val_basenames  = {os.path.basename(p) for p in train_val_imgs}\n",
    "test_basenames       = {os.path.basename(p) for p in test_imgs}\n",
    "\n",
    "# a) Of those NTs, how many are even in your Standard subset?\n",
    "standard_tn          = standard_basenames  & tn_basenames\n",
    "print(f\"  → Standard NT images overall: {len(standard_tn)}\")\n",
    "\n",
    "# b) How many of those end up in Train/Val?\n",
    "train_val_tn         = train_val_basenames & tn_basenames\n",
    "print(f\"  →  Train/Val NT images:        {len(train_val_tn)}\")\n",
    "\n",
    "# c) How many end up in Test?\n",
    "test_tn              = test_basenames      & tn_basenames\n",
    "print(f\"  →  Test NT images:             {len(test_tn)}\")\n"
   ]
  },
  {
   "cell_type": "code",
   "execution_count": 114,
   "id": "95e16a47",
   "metadata": {},
   "outputs": [
    {
     "name": "stdout",
     "output_type": "stream",
     "text": [
      "  →  Train/Val images without NT: 23\n",
      "  →  Test images without NT:        64\n"
     ]
    }
   ],
   "source": [
    "images_no_NT_train_val = train_val_basenames - train_val_tn\n",
    "images_no_NT_test      = test_basenames      - test_tn\n",
    "print(f\"  →  Train/Val images without NT: {len(images_no_NT_train_val)}\")\n",
    "print(f\"  →  Test images without NT:        {len(images_no_NT_test)}\")"
   ]
  },
  {
   "cell_type": "code",
   "execution_count": 115,
   "id": "6d8203c4",
   "metadata": {},
   "outputs": [],
   "source": [
    "# 5) Make the output folders\n",
    "os.makedirs(NEW_TRAIN_VAL_DIR, exist_ok=True)\n",
    "os.makedirs(NEW_TEST_DIR,      exist_ok=True)\n",
    "\n"
   ]
  },
  {
   "cell_type": "code",
   "execution_count": 116,
   "id": "3261de7e",
   "metadata": {},
   "outputs": [],
   "source": [
    "# train/val NT images\n",
    "for src in train_val_imgs:\n",
    "    if os.path.basename(src) in tn_basenames:\n",
    "        shutil.copy(src,\n",
    "                    os.path.join(NEW_TRAIN_VAL_DIR,\n",
    "                                 os.path.basename(src)))\n",
    "\n",
    "# test NT images\n",
    "for src in test_imgs:\n",
    "    if os.path.basename(src) in tn_basenames:\n",
    "        shutil.copy(src,\n",
    "                    os.path.join(NEW_TEST_DIR,\n",
    "                                 os.path.basename(src)))"
   ]
  },
  {
   "cell_type": "code",
   "execution_count": 117,
   "id": "f69f277a",
   "metadata": {},
   "outputs": [],
   "source": [
    "train_val_tn = train_val_basenames & tn_basenames\n",
    "test_tn      = test_basenames      & tn_basenames"
   ]
  },
  {
   "cell_type": "code",
   "execution_count": 118,
   "id": "b773f7f7",
   "metadata": {},
   "outputs": [],
   "source": [
    "# 6a) Copy train/val NT images\n",
    "for src in train_val_imgs:\n",
    "    name = os.path.basename(src)\n",
    "    if name in train_val_tn:\n",
    "        shutil.copy(src,\n",
    "                    os.path.join(NEW_TRAIN_VAL_DIR, name))\n",
    "\n",
    "# 6b) Copy test NT images\n",
    "for src in test_imgs:\n",
    "    name = os.path.basename(src)\n",
    "    if name in test_tn:\n",
    "        shutil.copy(src,\n",
    "                    os.path.join(NEW_TEST_DIR, name))"
   ]
  },
  {
   "cell_type": "code",
   "execution_count": 119,
   "id": "8c896656",
   "metadata": {},
   "outputs": [
    {
     "name": "stdout",
     "output_type": "stream",
     "text": [
      "Processed test files: 72, Processed train files: 1038\n"
     ]
    }
   ],
   "source": [
    "prosses_test  = count_files(NEW_TEST_DIR)\n",
    "prosses_train = count_files(NEW_TRAIN_VAL_DIR)\n",
    "print(f'Processed test files: {prosses_test}, Processed train files: {prosses_train}')"
   ]
  },
  {
   "cell_type": "code",
   "execution_count": 125,
   "id": "0fe9e400",
   "metadata": {},
   "outputs": [
    {
     "name": "stdout",
     "output_type": "stream",
     "text": [
      "Found 1110 Standard images labeled TN.\n",
      "Exporting 9287 rows (all structures for those images).\n",
      "Written: c:\\Users\\ibajl\\Desktop\\iamedic-demo\\pre_processing_segmentation\\standard_labels.csv\n"
     ]
    }
   ],
   "source": [
    "# Reload the original Excel file to ensure df is not empty\n",
    "df = pd.read_excel(EXCEL_PATH)\n",
    "\n",
    "# 1) Build the set of Standard basenames\n",
    "standard_basenames = {\n",
    "    os.path.basename(p)\n",
    "    for p in all_standard\n",
    "}\n",
    "\n",
    "# 2) Within your DataFrame, find which of those have at least one TN\n",
    "df['basename'] = df['fname'].map(lambda p: os.path.basename(p))\n",
    "mask_standard = df['basename'].isin(standard_basenames)\n",
    "mask_tn       = df['structure'].str.strip().str.upper() == 'NT'\n",
    "\n",
    "# Rows that are both Standard and TN\n",
    "standard_tn_rows = df[mask_standard & mask_tn]\n",
    "\n",
    "# The set of image names to keep\n",
    "standard_tn_basenames = set(standard_tn_rows['basename'])\n",
    "print(f\"Found {len(standard_tn_basenames)} Standard images labeled TN.\")\n",
    "\n",
    "# 3) Now select ALL rows whose basename is in that TN set AND is Standard\n",
    "mask_export = df['basename'].isin(standard_tn_basenames) & mask_standard\n",
    "df_export  = df[mask_export].copy()\n",
    "\n",
    "print(f\"Exporting {len(df_export)} rows (all structures for those images).\")\n",
    "\n",
    "# 4) Write out only those rows\n",
    "out_csv = os.path.join(NEW_ROOT, 'standard_labels.csv')\n",
    "df_export.to_csv(out_csv, index=False)\n",
    "print(\"Written:\", out_csv)"
   ]
  },
  {
   "cell_type": "code",
   "execution_count": 126,
   "id": "2fcea0d4",
   "metadata": {},
   "outputs": [
    {
     "name": "stdout",
     "output_type": "stream",
     "text": [
      "Number of rows labeled TN: 1110\n"
     ]
    }
   ],
   "source": [
    "# Point at your CSV\n",
    "csv_path = r\"C:\\Users\\ibajl\\Desktop\\iamedic-demo\\pre_processing_segmentation\\standard_labels.csv\"\n",
    "\n",
    "# Load and count\n",
    "df = pd.read_csv(csv_path)\n",
    "tn_count = (df['structure'].str.upper() == 'NT').sum()\n",
    "\n",
    "print(f\"Number of rows labeled TN: {tn_count}\")"
   ]
  },
  {
   "cell_type": "code",
   "execution_count": 127,
   "id": "0be99771",
   "metadata": {},
   "outputs": [],
   "source": [
    "df2 = pd.read_csv(csv_path)"
   ]
  },
  {
   "cell_type": "code",
   "execution_count": 128,
   "id": "be685672",
   "metadata": {},
   "outputs": [
    {
     "data": {
      "text/html": [
       "<div>\n",
       "<style scoped>\n",
       "    .dataframe tbody tr th:only-of-type {\n",
       "        vertical-align: middle;\n",
       "    }\n",
       "\n",
       "    .dataframe tbody tr th {\n",
       "        vertical-align: top;\n",
       "    }\n",
       "\n",
       "    .dataframe thead th {\n",
       "        text-align: right;\n",
       "    }\n",
       "</style>\n",
       "<table border=\"1\" class=\"dataframe\">\n",
       "  <thead>\n",
       "    <tr style=\"text-align: right;\">\n",
       "      <th></th>\n",
       "      <th>fname</th>\n",
       "      <th>structure</th>\n",
       "      <th>h_min</th>\n",
       "      <th>w_min</th>\n",
       "      <th>h_max</th>\n",
       "      <th>w_max</th>\n",
       "      <th>basename</th>\n",
       "    </tr>\n",
       "  </thead>\n",
       "  <tbody>\n",
       "    <tr>\n",
       "      <th>0</th>\n",
       "      <td>168.png</td>\n",
       "      <td>thalami</td>\n",
       "      <td>178</td>\n",
       "      <td>171</td>\n",
       "      <td>244</td>\n",
       "      <td>261</td>\n",
       "      <td>168.png</td>\n",
       "    </tr>\n",
       "    <tr>\n",
       "      <th>1</th>\n",
       "      <td>168.png</td>\n",
       "      <td>nasal bone</td>\n",
       "      <td>96</td>\n",
       "      <td>308</td>\n",
       "      <td>111</td>\n",
       "      <td>349</td>\n",
       "      <td>168.png</td>\n",
       "    </tr>\n",
       "    <tr>\n",
       "      <th>2</th>\n",
       "      <td>168.png</td>\n",
       "      <td>palate</td>\n",
       "      <td>133</td>\n",
       "      <td>300</td>\n",
       "      <td>205</td>\n",
       "      <td>408</td>\n",
       "      <td>168.png</td>\n",
       "    </tr>\n",
       "    <tr>\n",
       "      <th>3</th>\n",
       "      <td>168.png</td>\n",
       "      <td>nasal skin</td>\n",
       "      <td>86</td>\n",
       "      <td>324</td>\n",
       "      <td>95</td>\n",
       "      <td>349</td>\n",
       "      <td>168.png</td>\n",
       "    </tr>\n",
       "    <tr>\n",
       "      <th>4</th>\n",
       "      <td>168.png</td>\n",
       "      <td>nasal tip</td>\n",
       "      <td>79</td>\n",
       "      <td>345</td>\n",
       "      <td>89</td>\n",
       "      <td>376</td>\n",
       "      <td>168.png</td>\n",
       "    </tr>\n",
       "    <tr>\n",
       "      <th>...</th>\n",
       "      <td>...</td>\n",
       "      <td>...</td>\n",
       "      <td>...</td>\n",
       "      <td>...</td>\n",
       "      <td>...</td>\n",
       "      <td>...</td>\n",
       "      <td>...</td>\n",
       "    </tr>\n",
       "    <tr>\n",
       "      <th>9282</th>\n",
       "      <td>1577.png</td>\n",
       "      <td>nasal tip</td>\n",
       "      <td>134</td>\n",
       "      <td>363</td>\n",
       "      <td>142</td>\n",
       "      <td>385</td>\n",
       "      <td>1577.png</td>\n",
       "    </tr>\n",
       "    <tr>\n",
       "      <th>9283</th>\n",
       "      <td>1577.png</td>\n",
       "      <td>NT</td>\n",
       "      <td>354</td>\n",
       "      <td>240</td>\n",
       "      <td>374</td>\n",
       "      <td>392</td>\n",
       "      <td>1577.png</td>\n",
       "    </tr>\n",
       "    <tr>\n",
       "      <th>9284</th>\n",
       "      <td>1577.png</td>\n",
       "      <td>palate</td>\n",
       "      <td>169</td>\n",
       "      <td>317</td>\n",
       "      <td>219</td>\n",
       "      <td>407</td>\n",
       "      <td>1577.png</td>\n",
       "    </tr>\n",
       "    <tr>\n",
       "      <th>9285</th>\n",
       "      <td>1577.png</td>\n",
       "      <td>thalami</td>\n",
       "      <td>192</td>\n",
       "      <td>217</td>\n",
       "      <td>244</td>\n",
       "      <td>281</td>\n",
       "      <td>1577.png</td>\n",
       "    </tr>\n",
       "    <tr>\n",
       "      <th>9286</th>\n",
       "      <td>1577.png</td>\n",
       "      <td>midbrain</td>\n",
       "      <td>244</td>\n",
       "      <td>204</td>\n",
       "      <td>316</td>\n",
       "      <td>257</td>\n",
       "      <td>1577.png</td>\n",
       "    </tr>\n",
       "  </tbody>\n",
       "</table>\n",
       "<p>9287 rows × 7 columns</p>\n",
       "</div>"
      ],
      "text/plain": [
       "         fname   structure  h_min  w_min  h_max  w_max  basename\n",
       "0      168.png     thalami    178    171    244    261   168.png\n",
       "1      168.png  nasal bone     96    308    111    349   168.png\n",
       "2      168.png      palate    133    300    205    408   168.png\n",
       "3      168.png  nasal skin     86    324     95    349   168.png\n",
       "4      168.png   nasal tip     79    345     89    376   168.png\n",
       "...        ...         ...    ...    ...    ...    ...       ...\n",
       "9282  1577.png   nasal tip    134    363    142    385  1577.png\n",
       "9283  1577.png          NT    354    240    374    392  1577.png\n",
       "9284  1577.png      palate    169    317    219    407  1577.png\n",
       "9285  1577.png     thalami    192    217    244    281  1577.png\n",
       "9286  1577.png    midbrain    244    204    316    257  1577.png\n",
       "\n",
       "[9287 rows x 7 columns]"
      ]
     },
     "execution_count": 128,
     "metadata": {},
     "output_type": "execute_result"
    }
   ],
   "source": [
    "df2"
   ]
  }
 ],
 "metadata": {
  "kernelspec": {
   "display_name": "Demo_fetus",
   "language": "python",
   "name": "python3"
  },
  "language_info": {
   "codemirror_mode": {
    "name": "ipython",
    "version": 3
   },
   "file_extension": ".py",
   "mimetype": "text/x-python",
   "name": "python",
   "nbconvert_exporter": "python",
   "pygments_lexer": "ipython3",
   "version": "3.11.13"
  }
 },
 "nbformat": 4,
 "nbformat_minor": 5
}
